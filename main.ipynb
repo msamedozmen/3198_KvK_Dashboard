{
 "cells": [
  {
   "cell_type": "code",
   "execution_count": 2,
   "metadata": {},
   "outputs": [],
   "source": [
    "import pandas as pd \n",
    "import numpy as np "
   ]
  },
  {
   "cell_type": "code",
   "execution_count": 6,
   "metadata": {},
   "outputs": [],
   "source": [
    "def data_manipulation(main_sheet:str,before_kvk:str,after_kvk:str,save:str):\n",
    "    before_kvk_df = pd.read_excel(main_sheet, before_kvk)\n",
    "    after_kvk_df = pd.read_excel(main_sheet,after_kvk)\n",
    "    result = pd.merge(before_kvk_df,after_kvk_df, on=\"Governor ID\")\n",
    "    # result\n",
    "    if save ==\"kvk2\" or save==\"kvk3\":\n",
    "        result[\"T4-Kills_y\"] = result[\"T4-Kills_y\"].astype(str).str.replace('.', '').astype(\"int64\")\n",
    "        result[\"T5-Kills_y\"] = result[\"T5-Kills_y\"].astype(str).str.replace('.', '').astype(\"int64\")\n",
    "        result[\"T4-Kills_x\"] = result[\"T4-Kills_x\"].astype(str).str.replace('.', '').astype(\"int64\")\n",
    "        result[\"T5-Kills_x\"] = result[\"T5-Kills_x\"].astype(str).str.replace('.', '').astype(\"int64\")\n",
    "        result[\"T4 DIFF\"] = result[\"T4-Kills_y\"] -  result[\"T4-Kills_x\"]\n",
    "        result[\"T5 DIFF\"] =result[\"T5-Kills_y\"] -  result[\"T5-Kills_x\"]\n",
    "        result[\"Dead Troops_x\"] = result[\"Dead Troops_x\"].astype(str).str.replace('.', '').astype(\"int64\")\n",
    "        result[\"Dead Troops_y\"] = result[\"Dead Troops_y\"].astype(str).str.replace('.', '').astype(\"int64\")\n",
    "        result[\"Dead Diff\"] = result[\"Dead Troops_y\"] -  result[\"Dead Troops_x\"]\n",
    "        result = result.drop(['Name_x','Power_x', 'Alliance_x',\n",
    "        'T1-Kills_x', 'T2-Kills_x', 'T3-Kills_x', 'T4-Kills_x', 'T5-Kills_x',\n",
    "        'Kill Points_x', 'Dead Troops_x', 'Rss Assistance_x',\n",
    "        'Alliance Helps_x', 'Rss Gathered_x', 'updated_on_x', 'Unnamed: 16_x',\n",
    "        'Unnamed: 17_x', 'Unnamed: 18_x', 'Unnamed: 19_x', 'Unnamed: 20_x',\n",
    "        'Unnamed: 21_x', 'Name_y', 'exactName_y', 'Power_y', 'Alliance_y',\n",
    "        'T1-Kills_y', 'T2-Kills_y', 'T3-Kills_y', 'T4-Kills_y', 'T5-Kills_y',\n",
    "        'Kill Points_y', 'Dead Troops_y', 'Rss Assistance_y',\n",
    "        'Alliance Helps_y', 'Rss Gathered_y', 'updated_on_y', 'Unnamed: 16_y',\n",
    "        'Unnamed: 17_y', 'Unnamed: 18_y', 'Unnamed: 19_y', 'Unnamed: 20_y',\n",
    "        'Unnamed: 21_y',],axis=1)\n",
    "        result= result.rename(columns={\"exactName_x\":\"Governor Name\", \"T4 DIFF\":\"T4 Kills\",\"T5 DIFF\": \"T5 Kills\", \"Dead Diff\":\"Dead Gain\"})\n",
    "        result[\"T5-T4 Total Kills\"] = result[\"T4 Kills\"] + result[\"T5 Kills\"]\n",
    "        result[\"KvK\"] = f\"{save}\"\n",
    "        result[\"Total Kill Points\"] = result[\"T4 Kills\"]*10 + result[\"T5 Kills\"]*20\n",
    "    if save ==\"kvk1\":\n",
    "        result[\"T4-Kills_y\"] = result[\"T4-Kills_y\"].astype(str).str.replace('.', '').astype(\"int64\")\n",
    "        result[\"T5-Kills_y\"] = result[\"T5-Kills_y\"].astype(str).str.replace('.', '').astype(\"int64\")\n",
    "        result[\"T4-Kills_x\"] = result[\"T4-Kills_x\"].astype(str).str.replace('.', '').astype(\"int64\")\n",
    "        result[\"T5-Kills_x\"] = result[\"T5-Kills_x\"].astype(str).str.replace('.', '').astype(\"int64\")\n",
    "        result[\"T4 DIFF\"] = result[\"T4-Kills_y\"] -  result[\"T4-Kills_x\"]\n",
    "        result[\"T5 DIFF\"] =result[\"T5-Kills_y\"] -  result[\"T5-Kills_x\"]    \n",
    "        result[\"Dead Troops_x\"] = result[\"Dead Troops_x\"].astype(str).str.replace('.', '').astype(\"int64\")\n",
    "        result[\"Dead Troops_y\"] = result[\"Dead Troops_y\"].astype(str).str.replace('.', '').astype(\"int64\")\n",
    "        result[\"Dead Diff\"] = result[\"Dead Troops_y\"] -  result[\"Dead Troops_x\"]\n",
    "        result =result.drop(['Unnamed: 0', 'Name_x', 'Power_x',\n",
    "       'Alliance_x', 'T1-Kills_x', 'T2-Kills_x', 'T3-Kills_x', 'T4-Kills_x',\n",
    "       'T5-Kills_x', 'Dead Troops_x', 'Rss Assistance_x', 'Alliance Helps_x',\n",
    "       'Rss Gathered_x', 'updated_on_x', 'Name_y', 'exactName_y', 'Power_y',\n",
    "       'Alliance_y', 'T1-Kills_y', 'T2-Kills_y', 'T3-Kills_y', 'T4-Kills_y',\n",
    "       'T5-Kills_y', 'Kill Points', 'Dead Troops_y', 'Rss Assistance_y',\n",
    "       'Alliance Helps_y', 'Rss Gathered_y', 'updated_on_y', 'Unnamed: 16',\n",
    "       'Unnamed: 17', 'Unnamed: 18', 'Unnamed: 19', 'Unnamed: 20',\n",
    "       'Unnamed: 21',],axis=1)\n",
    "        result= result.rename(columns={\"exactName_x\":\"Governor Name\", \"T4 DIFF\":\"T4 Kills\",\"T5 DIFF\": \"T5 Kills\", \"Dead Diff\":\"Dead Gain\"})\n",
    "        result[\"T5-T4 Total Kills\"] = result[\"T4 Kills\"] + result[\"T5 Kills\"]\n",
    "        result[\"KvK\"] = \"KvK1\"\n",
    "        result[\"Total Kill Points\"] = result[\"T4 Kills\"]*10 + result[\"T5 Kills\"]*20\n",
    "        \n",
    "    result.to_excel(f\"{save}.xlsx\")\n",
    "    return result\n",
    "\n",
    "\n",
    "# feb14 = pd.read_csv(\"15Feb_3199.csv\")\n",
    "# feb16 = pd.read_csv(\"17Feb_3199.csv\")"
   ]
  },
  {
   "cell_type": "code",
   "execution_count": 14,
   "metadata": {},
   "outputs": [
    {
     "name": "stderr",
     "output_type": "stream",
     "text": [
      "C:\\Users\\MONSTER\\AppData\\Local\\Temp\\ipykernel_13560\\3837643097.py:7: FutureWarning: The default value of regex will change from True to False in a future version. In addition, single character regular expressions will *not* be treated as literal strings when regex=True.\n",
      "  result[\"T4-Kills_y\"] = result[\"T4-Kills_y\"].astype(str).str.replace('.', '').astype(\"int64\")\n",
      "C:\\Users\\MONSTER\\AppData\\Local\\Temp\\ipykernel_13560\\3837643097.py:8: FutureWarning: The default value of regex will change from True to False in a future version. In addition, single character regular expressions will *not* be treated as literal strings when regex=True.\n",
      "  result[\"T5-Kills_y\"] = result[\"T5-Kills_y\"].astype(str).str.replace('.', '').astype(\"int64\")\n",
      "C:\\Users\\MONSTER\\AppData\\Local\\Temp\\ipykernel_13560\\3837643097.py:9: FutureWarning: The default value of regex will change from True to False in a future version. In addition, single character regular expressions will *not* be treated as literal strings when regex=True.\n",
      "  result[\"T4-Kills_x\"] = result[\"T4-Kills_x\"].astype(str).str.replace('.', '').astype(\"int64\")\n",
      "C:\\Users\\MONSTER\\AppData\\Local\\Temp\\ipykernel_13560\\3837643097.py:10: FutureWarning: The default value of regex will change from True to False in a future version. In addition, single character regular expressions will *not* be treated as literal strings when regex=True.\n",
      "  result[\"T5-Kills_x\"] = result[\"T5-Kills_x\"].astype(str).str.replace('.', '').astype(\"int64\")\n",
      "C:\\Users\\MONSTER\\AppData\\Local\\Temp\\ipykernel_13560\\3837643097.py:13: FutureWarning: The default value of regex will change from True to False in a future version. In addition, single character regular expressions will *not* be treated as literal strings when regex=True.\n",
      "  result[\"Dead Troops_x\"] = result[\"Dead Troops_x\"].astype(str).str.replace('.', '').astype(\"int64\")\n",
      "C:\\Users\\MONSTER\\AppData\\Local\\Temp\\ipykernel_13560\\3837643097.py:14: FutureWarning: The default value of regex will change from True to False in a future version. In addition, single character regular expressions will *not* be treated as literal strings when regex=True.\n",
      "  result[\"Dead Troops_y\"] = result[\"Dead Troops_y\"].astype(str).str.replace('.', '').astype(\"int64\")\n"
     ]
    }
   ],
   "source": [
    "result = data_manipulation(main_sheet=\"databook.xlsx\",before_kvk=\"17Jan24-23h30m\",after_kvk=\"29Feb24-21h40m\",save=\"kvk3\")\n",
    "\n"
   ]
  },
  {
   "cell_type": "code",
   "execution_count": 15,
   "metadata": {},
   "outputs": [],
   "source": [
    "def merge_into_one(**kwargs):\n",
    "    df_name_list = [f\"{key}_df\" for (key,value) in kwargs.items()]\n",
    "    index=0\n",
    "    df_list = []\n",
    "    for (key,value) in kwargs.items():\n",
    "        \n",
    "        df_name_list[index] = pd.read_excel(f\"{value}.xlsx\")\n",
    "        df_list.append(df_name_list[index])\n",
    "        index+=1\n",
    "        \n",
    "    # merged_df = pd.concat(df_list)\n",
    "    return df_list\n",
    "\n",
    "        \n",
    "    \n",
    "    \n",
    "        \n",
    "    "
   ]
  },
  {
   "cell_type": "code",
   "execution_count": 16,
   "metadata": {},
   "outputs": [],
   "source": [
    "df_list = merge_into_one(kvk1=\"kvk1\",kvk2=\"kvk2\",kvk3=\"kvk3\")\n"
   ]
  },
  {
   "cell_type": "code",
   "execution_count": 34,
   "metadata": {},
   "outputs": [],
   "source": [
    "merged_df = pd.concat([df for df in df_list ],ignore_index=True)\n"
   ]
  },
  {
   "cell_type": "code",
   "execution_count": 35,
   "metadata": {},
   "outputs": [],
   "source": [
    "merged_df=merged_df.drop(columns=[\"Unnamed: 0\"])\n",
    "\n",
    "# merged_df[\"Total Kill Points\"] = merged_df[\"T4 Kills\"]*10 + merged_df[\"T5 Kills\"]*20"
   ]
  },
  {
   "cell_type": "code",
   "execution_count": 19,
   "metadata": {},
   "outputs": [],
   "source": [
    "merged_df.sort_values(by=\"Governor ID\",ascending=False)\n",
    "merged_df.to_excel(\"merged.xlsx\")\n",
    "\n"
   ]
  },
  {
   "cell_type": "code",
   "execution_count": 148,
   "metadata": {},
   "outputs": [
    {
     "name": "stderr",
     "output_type": "stream",
     "text": [
      "C:\\Users\\MONSTER\\AppData\\Local\\Temp\\ipykernel_4668\\4125983970.py:1: FutureWarning: The default value of numeric_only in DataFrameGroupBy.sum is deprecated. In a future version, numeric_only will default to False. Either specify numeric_only or select only columns which should be valid for the function.\n",
      "  x=merged_df.groupby([\"Governor ID\"],as_index=False).sum().sort_values(by=\"Total Kill Points\",ascending=False)\n"
     ]
    }
   ],
   "source": [
    "x=merged_df.groupby([\"Governor ID\"],as_index=False).sum().sort_values(by=\"Total Kill Points\",ascending=False)"
   ]
  },
  {
   "cell_type": "code",
   "execution_count": 20,
   "metadata": {},
   "outputs": [
    {
     "data": {
      "text/html": [
       "<div>\n",
       "<style scoped>\n",
       "    .dataframe tbody tr th:only-of-type {\n",
       "        vertical-align: middle;\n",
       "    }\n",
       "\n",
       "    .dataframe tbody tr th {\n",
       "        vertical-align: top;\n",
       "    }\n",
       "\n",
       "    .dataframe thead th {\n",
       "        text-align: right;\n",
       "    }\n",
       "</style>\n",
       "<table border=\"1\" class=\"dataframe\">\n",
       "  <thead>\n",
       "    <tr style=\"text-align: right;\">\n",
       "      <th></th>\n",
       "      <th>Governor ID</th>\n",
       "      <th>Governor Name</th>\n",
       "      <th>T4 Kills</th>\n",
       "      <th>T5 Kills</th>\n",
       "      <th>Dead Gain</th>\n",
       "      <th>T5-T4 Total Kills</th>\n",
       "      <th>KvK</th>\n",
       "      <th>Total Kill Points</th>\n",
       "    </tr>\n",
       "  </thead>\n",
       "  <tbody>\n",
       "    <tr>\n",
       "      <th>0</th>\n",
       "      <td>158678301</td>\n",
       "      <td>ᴸᴳCrapone</td>\n",
       "      <td>51991419</td>\n",
       "      <td>1285685</td>\n",
       "      <td>1776607</td>\n",
       "      <td>53277104</td>\n",
       "      <td>KvK1</td>\n",
       "      <td>545627890</td>\n",
       "    </tr>\n",
       "    <tr>\n",
       "      <th>1</th>\n",
       "      <td>158632609</td>\n",
       "      <td>ᴸᴳKingAtEnd</td>\n",
       "      <td>6880531</td>\n",
       "      <td>256036</td>\n",
       "      <td>617791</td>\n",
       "      <td>7136567</td>\n",
       "      <td>KvK1</td>\n",
       "      <td>73926030</td>\n",
       "    </tr>\n",
       "    <tr>\n",
       "      <th>2</th>\n",
       "      <td>158273867</td>\n",
       "      <td>ᴸᴳK UhtRed</td>\n",
       "      <td>25726665</td>\n",
       "      <td>484612</td>\n",
       "      <td>1411640</td>\n",
       "      <td>26211277</td>\n",
       "      <td>KvK1</td>\n",
       "      <td>266958890</td>\n",
       "    </tr>\n",
       "    <tr>\n",
       "      <th>3</th>\n",
       "      <td>158336136</td>\n",
       "      <td>ᴸᴳCrusher</td>\n",
       "      <td>13388573</td>\n",
       "      <td>318577</td>\n",
       "      <td>1308936</td>\n",
       "      <td>13707150</td>\n",
       "      <td>KvK1</td>\n",
       "      <td>140257270</td>\n",
       "    </tr>\n",
       "    <tr>\n",
       "      <th>4</th>\n",
       "      <td>158008248</td>\n",
       "      <td>ᴱʷWolfsBlood</td>\n",
       "      <td>9558562</td>\n",
       "      <td>89117</td>\n",
       "      <td>784182</td>\n",
       "      <td>9647679</td>\n",
       "      <td>KvK1</td>\n",
       "      <td>97367960</td>\n",
       "    </tr>\n",
       "    <tr>\n",
       "      <th>...</th>\n",
       "      <td>...</td>\n",
       "      <td>...</td>\n",
       "      <td>...</td>\n",
       "      <td>...</td>\n",
       "      <td>...</td>\n",
       "      <td>...</td>\n",
       "      <td>...</td>\n",
       "      <td>...</td>\n",
       "    </tr>\n",
       "    <tr>\n",
       "      <th>1165</th>\n",
       "      <td>158736365</td>\n",
       "      <td>Jackkøy</td>\n",
       "      <td>0</td>\n",
       "      <td>0</td>\n",
       "      <td>0</td>\n",
       "      <td>0</td>\n",
       "      <td>kvk3</td>\n",
       "      <td>0</td>\n",
       "    </tr>\n",
       "    <tr>\n",
       "      <th>1166</th>\n",
       "      <td>94299940</td>\n",
       "      <td>FeliksBF</td>\n",
       "      <td>0</td>\n",
       "      <td>0</td>\n",
       "      <td>0</td>\n",
       "      <td>0</td>\n",
       "      <td>kvk3</td>\n",
       "      <td>0</td>\n",
       "    </tr>\n",
       "    <tr>\n",
       "      <th>1167</th>\n",
       "      <td>13355671</td>\n",
       "      <td>mikesinc farm</td>\n",
       "      <td>0</td>\n",
       "      <td>0</td>\n",
       "      <td>0</td>\n",
       "      <td>0</td>\n",
       "      <td>kvk3</td>\n",
       "      <td>0</td>\n",
       "    </tr>\n",
       "    <tr>\n",
       "      <th>1168</th>\n",
       "      <td>158225379</td>\n",
       "      <td>hú húhú</td>\n",
       "      <td>0</td>\n",
       "      <td>0</td>\n",
       "      <td>0</td>\n",
       "      <td>0</td>\n",
       "      <td>kvk3</td>\n",
       "      <td>0</td>\n",
       "    </tr>\n",
       "    <tr>\n",
       "      <th>1169</th>\n",
       "      <td>148646294</td>\n",
       "      <td>ᵖᵖFalCon</td>\n",
       "      <td>0</td>\n",
       "      <td>0</td>\n",
       "      <td>0</td>\n",
       "      <td>0</td>\n",
       "      <td>kvk3</td>\n",
       "      <td>0</td>\n",
       "    </tr>\n",
       "  </tbody>\n",
       "</table>\n",
       "<p>1170 rows × 8 columns</p>\n",
       "</div>"
      ],
      "text/plain": [
       "      Governor ID  Governor Name  T4 Kills  T5 Kills  Dead Gain  \\\n",
       "0       158678301      ᴸᴳCrapone  51991419   1285685    1776607   \n",
       "1       158632609    ᴸᴳKingAtEnd   6880531    256036     617791   \n",
       "2       158273867     ᴸᴳK UhtRed  25726665    484612    1411640   \n",
       "3       158336136      ᴸᴳCrusher  13388573    318577    1308936   \n",
       "4       158008248   ᴱʷWolfsBlood   9558562     89117     784182   \n",
       "...           ...            ...       ...       ...        ...   \n",
       "1165    158736365        Jackkøy         0         0          0   \n",
       "1166     94299940       FeliksBF         0         0          0   \n",
       "1167     13355671  mikesinc farm         0         0          0   \n",
       "1168    158225379        hú húhú         0         0          0   \n",
       "1169    148646294       ᵖᵖFalCon         0         0          0   \n",
       "\n",
       "      T5-T4 Total Kills   KvK  Total Kill Points  \n",
       "0              53277104  KvK1          545627890  \n",
       "1               7136567  KvK1           73926030  \n",
       "2              26211277  KvK1          266958890  \n",
       "3              13707150  KvK1          140257270  \n",
       "4               9647679  KvK1           97367960  \n",
       "...                 ...   ...                ...  \n",
       "1165                  0  kvk3                  0  \n",
       "1166                  0  kvk3                  0  \n",
       "1167                  0  kvk3                  0  \n",
       "1168                  0  kvk3                  0  \n",
       "1169                  0  kvk3                  0  \n",
       "\n",
       "[1170 rows x 8 columns]"
      ]
     },
     "execution_count": 20,
     "metadata": {},
     "output_type": "execute_result"
    }
   ],
   "source": [
    "merged_df.dropna()"
   ]
  },
  {
   "cell_type": "code",
   "execution_count": 154,
   "metadata": {},
   "outputs": [],
   "source": [
    "x = x.where(x[\"Total Kill Points\"]>int(10000000)).dropna()\n",
    "\n",
    "for item in x.columns:\n",
    "    x[item] = x[item].astype(int)"
   ]
  },
  {
   "cell_type": "code",
   "execution_count": 156,
   "metadata": {},
   "outputs": [],
   "source": [
    "x = x.reset_index()"
   ]
  },
  {
   "cell_type": "code",
   "execution_count": 159,
   "metadata": {},
   "outputs": [],
   "source": [
    "x=x.drop(columns=[\"index\"])"
   ]
  },
  {
   "cell_type": "code",
   "execution_count": 161,
   "metadata": {},
   "outputs": [],
   "source": [
    "x.to_excel(\"merged.xlsx\")"
   ]
  },
  {
   "cell_type": "code",
   "execution_count": 177,
   "metadata": {},
   "outputs": [
    {
     "name": "stderr",
     "output_type": "stream",
     "text": [
      "C:\\Users\\MONSTER\\AppData\\Local\\Temp\\ipykernel_4668\\3658635229.py:1: FutureWarning: The default value of numeric_only in DataFrameGroupBy.sum is deprecated. In a future version, numeric_only will default to False. Either specify numeric_only or select only columns which should be valid for the function.\n",
      "  y=merged_df.groupby([\"KvK\"],as_index=False).sum()\n"
     ]
    }
   ],
   "source": [
    "y=merged_df.groupby([\"KvK\"],as_index=False).sum()"
   ]
  },
  {
   "cell_type": "code",
   "execution_count": 178,
   "metadata": {},
   "outputs": [],
   "source": [
    "y=y.drop(columns=[\"Governor ID\",\"T4 Kills\",\"T5 Kills\",\"Total Kill Points\"])"
   ]
  },
  {
   "cell_type": "code",
   "execution_count": 179,
   "metadata": {},
   "outputs": [
    {
     "data": {
      "text/html": [
       "<div>\n",
       "<style scoped>\n",
       "    .dataframe tbody tr th:only-of-type {\n",
       "        vertical-align: middle;\n",
       "    }\n",
       "\n",
       "    .dataframe tbody tr th {\n",
       "        vertical-align: top;\n",
       "    }\n",
       "\n",
       "    .dataframe thead th {\n",
       "        text-align: right;\n",
       "    }\n",
       "</style>\n",
       "<table border=\"1\" class=\"dataframe\">\n",
       "  <thead>\n",
       "    <tr style=\"text-align: right;\">\n",
       "      <th></th>\n",
       "      <th>KvK</th>\n",
       "      <th>Dead Gain</th>\n",
       "      <th>T5-T4 Total Kills</th>\n",
       "    </tr>\n",
       "  </thead>\n",
       "  <tbody>\n",
       "    <tr>\n",
       "      <th>0</th>\n",
       "      <td>KvK1</td>\n",
       "      <td>57030018</td>\n",
       "      <td>591308966</td>\n",
       "    </tr>\n",
       "    <tr>\n",
       "      <th>1</th>\n",
       "      <td>KvK2</td>\n",
       "      <td>155365679</td>\n",
       "      <td>751001964</td>\n",
       "    </tr>\n",
       "    <tr>\n",
       "      <th>2</th>\n",
       "      <td>kvk3</td>\n",
       "      <td>102171410</td>\n",
       "      <td>723991699</td>\n",
       "    </tr>\n",
       "  </tbody>\n",
       "</table>\n",
       "</div>"
      ],
      "text/plain": [
       "    KvK  Dead Gain  T5-T4 Total Kills\n",
       "0  KvK1   57030018          591308966\n",
       "1  KvK2  155365679          751001964\n",
       "2  kvk3  102171410          723991699"
      ]
     },
     "execution_count": 179,
     "metadata": {},
     "output_type": "execute_result"
    }
   ],
   "source": [
    "y"
   ]
  },
  {
   "cell_type": "code",
   "execution_count": 23,
   "metadata": {},
   "outputs": [],
   "source": [
    "merged_df[\"Governor ID\"] = merged_df[\"Governor ID\"].astype(str)"
   ]
  },
  {
   "cell_type": "code",
   "execution_count": 24,
   "metadata": {},
   "outputs": [
    {
     "name": "stdout",
     "output_type": "stream",
     "text": [
      "['158678301', '158632609', '158273867', '158336136', '158008248', '158679060', '158620031', '158585427', '158632242', '158602855', '158040518', '158999710', '157950218', '158182282', '158049853', '158051597', '158046552', '158725260', '158205863', '158107141', '158144512', '158296386', '157981200', '158015299', '158241500', '158361219', '158179694', '158062170', '157990264', '158062440', '158663843', '158228815', '158222317', '158248164', '158767084', '158641910', '158028242', '158123441', '158340935', '158544106', '158730193', '158049535', '158096956', '157963473', '158276872', '158043749', '158178054', '158743447', '158278413', '158073543', '158633360', '158177187', '158618845', '158265830', '158038408', '158152485', '158197899', '158135081', '158404769', '158101102', '158095874', '158248847', '158198093', '157988897', '158079050', '158731550', '158380618', '158116872', '158636748', '157952526', '158194685', '158386496', '158050264', '158664919', '158352413', '158045542', '158031941', '158045378', '157984284', '158191973', '157956126', '158487934', '158065996', '158158135', '158008910', '158015643', '158126528', '158705854', '158075719', '157950848', '158141568', '157966318', '158616011', '158744397', '158087163', '158084365', '158021460', '158303312', '158555618', '158174470', '158017261', '158009987', '158241872', '158689339', '158271093', '158641452', '158246236', '157971026', '158136757', '158185596', '158107718', '158343418', '158246612', '158062252', '158086713', '158223850', '158078689', '158093290', '158664159', '157954630', '158623377', '158541960', '158509518', '158052205', '158027212', '158120231', '158541950', '158037892', '158726559', '158187518', '158425231', '158641881', '158625160', '158013460', '158280310', '158232355', '157974059', '158175363', '158213593', '158035657', '157960095', '158218302', '158082335', '158749295', '158036292', '158139969', '158265724', '158026409', '158112721', '158075031', '158635825', '157986344', '158263685', '158684638', '157959759', '158432749', '157956699', '158645635', '158143701', '158110670', '158272378', '158252969', '158766557', '157953662', '158464875', '158305116', '157957882', '158642833', '158666958', '158064094', '158745945', '158178659', '158786213', '158793691', '158028836', '158713555', '158379374', '158033949', '158122129', '158175919', '158180603', '158199626', '158171402', '158111153', '158585319', '158043162', '158065283', '157973993', '158641826', '158819978', '158196359', '158404243', '158181580', '158399859', '158349615', '158122100', '158683232', '157972230', '158243220', '158653979', '158534199', '158676419', '158060477', '158134836', '158755953', '158241960', '158098298', '158024734', '158029699', '158233575', '158675548', '158539074', '158283614', '158112589', '157980896', '158181197', '158702048', '158310032', '158049646', '158495419', '158817647', '158790940', '158637321', '158667297', '158011697', '158178669', '158506465', '158708777', '158195839', '158687278', '158817781', '158172428', '158623300', '158709649', '157957578', '158749047', '158248476', '158712401', '158720042', '158801142', '158226754', '158662414', '158657466', '158693786', '158639419', '158660123', '158639391', '158445073', '158098216', '158762352', '157998013', '158090016', '158241660', '158655429', '158110286', '76501578', '53339041', '76542548', '54507842', '76316567', '58425530', '58561787', '124319056', '63109876', '58591168', '45702537', '43091151', '39372324', '76347346', '30826003', '58022380', '95303652', '52269252', '158678301', '125366409', '121617850', '43265054', '136130442', '29305399', '58651927', '138281839', '109835681', '134530894', '114694670', '99711247', '135993464', '79326398', '152474947', '127489471', '67593182', '70086118', '158999710', '158632609', '153038374', '139534068', '129601752', '152469111', '143153158', '143853784', '158165698', '157582171', '111417966', '158336136', '158228815', '152324908', '132694554', '143848556', '160296504', '151143279', '159322097', '139250673', '158049853', '153096877', '140852012', '157929464', '157045212', '158389577', '158038408', '153208059', '151881265', '158123441', '152499234', '158852701', '152988586', '158689339', '158009987', '153013982', '158380618', '158623377', '157950218', '158213593', '158028242', '158386496', '158664159', '158684638', '152240447', '158194685', '158731550', '153970038', '158679060', '158123512', '116268624', '158197899', '157448275', '153107634', '158218302', '158126578', '99197982', '158276872', '158015643', '153080084', '152527186', '153771128', '145766735', '158112280', '157984299', '153254304', '158725260', '153048980', '158425231', '146227341', '153027829', '158143701', '158165088', '157984284', '158726559', '153068806', '91185716', '158641881', '158113420', '158102330', '157966318', '158037892', '153078742', '154267496', '154228339', '152708081', '157990264', '153041245', '152249247', '158116872', '158166486', '158664919', '158272378', '158178659', '158735631', '139750753', '152387500', '158738576', '143435588', '158749295', '153548211', '158062252', '158049535', '153040731', '153612252', '158616011', '158027212', '101772420', '158163724', '158120231', '159237895', '153035041', '158340935', '50243122', '158639391', '158361219', '158095874', '157971026', '158265724', '145817799', '158075031', '158639419', '158129419', '158141568', '125727157', '158073543', '152868179', '157609826', '158352413', '158893892', '158686352', '158715241', '153659561', '154153979', '158852396', '157960095', '159302536', '69249033', '158126528', '158880518', '158634461', '59902487', '158626024', '153702814', '151885097', '157972230', '158524864', '158011697', '158495419', '153254275', '158673322', '158220881', '158647337', '157644050', '153015575', '139254185', '158650280', '158620414', '158135081', '153107809', '8763147', '157959759', '158152485', '143118443', '262505', '158110286', '158310032', '39533481', '158730193', '158487934', '158667140', '159358679', '158722939', '158680099', '158379374', '76872092', '134073465', '158616689', '153238125', '153767629', '158257156', '158667297', '11947049', '156854843', '158046552', '148415626', '157956699', '158677731', '159332765', '158178054', '157731196', '158399859', '154709365', '158617447', '153271161', '158116953', '107144081', '156505189', '157523584', '158099927', '158241960', '158343418', '61209709', '158390105', '152248393', '158664503', '153170006', '153078021', '158727340', '151133149', '158624613', '158801328', '158741586', '158818535', '158522524', '155239494', '158229646', '158143642', '153617737', '159297243', '158644470', '158557834', '158720042', '158676419', '158668132', '158622528', '31852277', '158684206', '158884667', '158136757', '158437532', '153000578', '158174470', '158672081', '158054062', '160649409', '159330058', '158657439', '158655429', '158659040', '158633622', '158701255', '159335460', '158002821', '159257191', '158687778', '158398416', '157522178', '158437536', '158695287', '158654630', '158292570', '158224165', '158820921', '129160559', '159383019', '158661228', '158802384', '158640939', '151218806', '138032198', '159239536', '158662414', '138689743', '158707784', '158744140', '158679816', '158721744', '158663255', '158662004', '158482676', '158632324', '158060477', '158602388', '144975613', '153668034', '158689843', '159314691', '158731127', '158707316', '158745276', '153069449', '158518892', '158690720', '158738445', '158669992', '12095471', '158509933', '158681952', '158655591', '130982959', '158666685', '151893748', '105005553', '102258642', '159037572', '158035585', '158178668', '158634599', '157811545', '158639364', '158619635', '75546483', '158680249', '159097603', '68744304', '152334637', '151909735', '158078039', '158632835', '150615601', '159550493', '56202765', '158633947', '158264444', '158661289', '158629167', '158808635', '158664082', '158686133', '158745672', '143724278', '152996214', '158299982', '158651129', '158695963', '158742313', '158641892', '158622099', '158655559', '158132856', '158751301', '153235664', '158255831', '158432749', '157571535', '153056881', '158672788', '61990031', '158232284', '157816560', '158707496', '158640327', '158720660', '159672751', '158786213', '158687893', '158683250', '158684036', '158703254', '157945110', '158632001', '158681951', '158618497', '158810284', '136534551', '158287700', '158052646', '109543803', '158340500', '128036233', '154625802', '158740542', '158112919', '158704984', '158787843', '158163594', '79854928', '158716863', '158660468', '158648593', '158351848', '158722048', '158658108', '17235699', '158660318', '158726028', '158109671', '158661979', '153715311', '158196359', '158689533', '158666839', '158649762', '158423917', '158686214', '158666451', '158293234', '153188740', '157609260', '158680446', '159951548', '158217272', '91064230', '158697547', '158652474', '158729614', '158623234', '158661964', '158684945', '158686719', '158724557', '158642286', '159095056', '69219579', '158687238', '158710026', '158052318', '158692553', '158302700', '152255822', '158670030', '158712609', '158618948', '99068553', '158642316', '158570058', '158662035', '158657649', '158972145', '158688100', '2387678', '159321478', '158724440', '158622490', '158659158', '158742088', '119666011', '158734805', '159501849', '134738812', '158646919', '158679386', '158754470', '158714721', '158701827', '158634028', '158680807', '58561787', '53339041', '76542548', '54507842', '30426359', '124319056', '58591168', '76347346', '45702537', '76501578', '58425530', '95303652', '63109876', '52269252', '43091151', '12787264', '39372324', '30826003', '158999710', '29305399', '76725217', '121617850', '125366409', '136130442', '58651927', '138281839', '109835681', '152474947', '114694670', '135993464', '153233214', '134530894', '79326398', '70086118', '127489471', '67593182', '139534068', '152469111', '143153158', '153038374', '158632609', '158273867', '157950218', '99711247', '153317766', '152324908', '151881265', '158689339', '129601752', '143853784', '153048980', '157045212', '158028242', '157929464', '153512104', '154169850', '160640095', '158228815', '153208059', '153107634', '139250673', '153096877', '152527186', '158336136', '158380618', '158684638', '158312761', '158143701', '153080084', '152499234', '158389577', '152988586', '158672081', '111417966', '158735631', '157609826', '158190282', '153771128', '157972230', '158276872', '158727340', '152708081', '132694554', '159358679', '155401951', '158880518', '158038408', '158738576', '158715241', '158197899', '153078742', '146227341', '152655461', '158668132', '153254275', '159302536', '158116872', '153702814', '153041245', '157523584', '154267496', '153254304', '153271161', '152387500', '153040731', '158673322', '158218302', '158682321', '152868179', '158141568', '158684036', '158680099', '158893892', '153013982', '158011697', '158626024', '158054062', '158265724', '158667140', '153659561', '158075031', '139750753', '158495419', '158634461', '158257156', '151194736', '99197982', '154599761', '158619635', '158629167', '160649409', '158655591', '153015575', '158647337', '153107809', '158040518', '158664503', '159239536', '158684206', '158622528', '158616011', '158690720', '158701255', '158616689', '158622099', '158661228', '152249247', '158062252', '76872092', '158633622', '158720042', '158644470', '158707784', '11947049', '158740542', '158522524', '39533481', '158669992', '158632835', '153035041', '159237895', '158681951', '31852277', '158663255', '158738445', '69249033', '158721744', '158884667', '157522178', '159672751', '158650280', '159166221', '150857043', '155239494', '158695287', '158632324', '158509933', '158666451', '152232927', '158623234', '152334637', '152127762', '158310032', '158518892', '158701827', '153078021', '158634599', '158687893', '130982959', '61209709', '102258642', '150922913', '158292570', '159550493', '158132856', '158681952', '158744140', '151260349', '156772996', '143118443', '158659040', '152248393', '154593410', '158287700', '158078039', '159330058', '157644050', '157571535', '158361219', '158683250', '158654630', '153668034', '158686133', '151323388', '154153979', '139254185', '158143642', '159362872', '158665120', '158052646', '159204039', '153235664', '125727157', '158049535', '158232284', '158680249', '129160559', '158293234', '158787843', '158351848', '158714721', '159951548', '107144081', '145817799', '158646919', '158642316', '159370829', '158716863', '158035585', '159095056', '158751301', '158112919', '158661964', '151218806', '158657439', '158570058', '158692553', '119666011', '144975613', '158379374', '152623772', '158052318', '158377789', '158740675', '158718177', '158697547', '158679816', '158688100', '157956699', '158972145', '158720660', '153715311', '158676419', '158264444', '153238125', '158712609', '158662035', '158732465', '158729614', '160195108', '152670236', '158625649', '158658108', '158687238', '159453314', '158685026', '75546483', '158631299', '158680807', '158619553', '158340500', '158648593', '158702528', '158724440', '158255831', '158069154', '157609260', '159501849', '154057956', '158344270', '150933520', '158299982', '153826046', '155123243', '158630246', '136534551', '158742088', '158107718', '158655966', '158657649', '158704984', '158686846', '158653544', '158740195', '160436184', '158171845', '158675005', '158673799', '58399510', '158616532', '158659050', '158241960', '158738493', '158660318', '158624244', '158661979', '158725330', '158161883', '159218186', '154625802', '158423917', '158205863', '159568512', '158700501', '56202765', '136232763', '158712010', '158751242', '158687452', '128036233', '158725542', '161230746', '159275563', '160244029', '158647666', '158638128', '158684622', '158633947', '158697456', '158973183', '151390321', '159291056', '158616513', '158217272', '158662232', '68744304', '158996850', '159470307', '3510341', '158679895', '158722821', '158134630', '158702068', '158700200', '158678111', '158717714', '161481654', '158619097', '158186054', '52934339', '158509518', '66662436', '150615601', '158664187', '158715969', '158718614', '158686719', '158635370', '158650719', '158632160', '158360229', '148540904', '153735255', '158660265', '61990031', '158684786', '158739075', '158749208', '158689893', '153188740', '160962338', '158722612', '130226694', '160084321', '158646160', '158697967', '155283040', '157811545', '158299095', '158751598', '158708130', '91064230', '158726199', '158302700', '122475667', '159578895', '153075332', '158190916', '128035930', '113659404', '158634028', '158681418', '162604196', '158307999', '129504359', '160274722', '158684523', '109078967', '158689590', '158687211', '158689453', '159531907', '158630595', '158690313', '150948410', '158654258', '161433677', '158704873', '166029806', '168478150', '157988019', '137621720', '158681447', '161024916', '158684602', '158630327', '158660301', '153176900', '160371529', '129930555', '158679193', '153357833', '158731114', '158695394', '158334571', '153304096', '158736365', '94299940', '13355671', '158225379', '148646294']\n"
     ]
    }
   ],
   "source": [
    "print(merged_df[\"Governor ID\"].tolist())"
   ]
  },
  {
   "cell_type": "code",
   "execution_count": 25,
   "metadata": {},
   "outputs": [],
   "source": [
    "id = merged_df[\"Governor ID\"].tolist()"
   ]
  },
  {
   "cell_type": "code",
   "execution_count": 29,
   "metadata": {},
   "outputs": [],
   "source": [
    "id=id.sort()"
   ]
  },
  {
   "cell_type": "code",
   "execution_count": 31,
   "metadata": {},
   "outputs": [],
   "source": [
    "if \"\" in id:\n",
    "    print(\"found\")"
   ]
  },
  {
   "cell_type": "code",
   "execution_count": 33,
   "metadata": {},
   "outputs": [
    {
     "data": {
      "text/html": [
       "<div>\n",
       "<style scoped>\n",
       "    .dataframe tbody tr th:only-of-type {\n",
       "        vertical-align: middle;\n",
       "    }\n",
       "\n",
       "    .dataframe tbody tr th {\n",
       "        vertical-align: top;\n",
       "    }\n",
       "\n",
       "    .dataframe thead th {\n",
       "        text-align: right;\n",
       "    }\n",
       "</style>\n",
       "<table border=\"1\" class=\"dataframe\">\n",
       "  <thead>\n",
       "    <tr style=\"text-align: right;\">\n",
       "      <th></th>\n",
       "      <th>Governor ID</th>\n",
       "      <th>Governor Name</th>\n",
       "      <th>T4 Kills</th>\n",
       "      <th>T5 Kills</th>\n",
       "      <th>Dead Gain</th>\n",
       "      <th>T5-T4 Total Kills</th>\n",
       "      <th>KvK</th>\n",
       "      <th>Total Kill Points</th>\n",
       "    </tr>\n",
       "  </thead>\n",
       "  <tbody>\n",
       "    <tr>\n",
       "      <th>257</th>\n",
       "      <td>76542548</td>\n",
       "      <td>This Pig</td>\n",
       "      <td>63145098.0</td>\n",
       "      <td>13410284.0</td>\n",
       "      <td>3612709.0</td>\n",
       "      <td>76555382.0</td>\n",
       "      <td>kvk2</td>\n",
       "      <td>899656660.0</td>\n",
       "    </tr>\n",
       "    <tr>\n",
       "      <th>731</th>\n",
       "      <td>76542548</td>\n",
       "      <td>This Pig</td>\n",
       "      <td>11548116.0</td>\n",
       "      <td>3403670.0</td>\n",
       "      <td>629563.0</td>\n",
       "      <td>14951786.0</td>\n",
       "      <td>kvk3</td>\n",
       "      <td>183554560.0</td>\n",
       "    </tr>\n",
       "  </tbody>\n",
       "</table>\n",
       "</div>"
      ],
      "text/plain": [
       "    Governor ID Governor Name    T4 Kills    T5 Kills  Dead Gain  \\\n",
       "257    76542548      This Pig  63145098.0  13410284.0  3612709.0   \n",
       "731    76542548      This Pig  11548116.0   3403670.0   629563.0   \n",
       "\n",
       "     T5-T4 Total Kills   KvK  Total Kill Points  \n",
       "257         76555382.0  kvk2        899656660.0  \n",
       "731         14951786.0  kvk3        183554560.0  "
      ]
     },
     "execution_count": 33,
     "metadata": {},
     "output_type": "execute_result"
    }
   ],
   "source": [
    "merged_df = merged_df.where(merged_df[\"Governor ID\"].astype(str)==\"76542548\").dropna()\n",
    "merged_df"
   ]
  },
  {
   "cell_type": "code",
   "execution_count": 36,
   "metadata": {},
   "outputs": [],
   "source": [
    "merged_df_name = merged_df.where(merged_df[\"Governor Name\"].astype(str)==\"This Pig\").dropna()"
   ]
  },
  {
   "cell_type": "code",
   "execution_count": 37,
   "metadata": {},
   "outputs": [
    {
     "data": {
      "text/html": [
       "<div>\n",
       "<style scoped>\n",
       "    .dataframe tbody tr th:only-of-type {\n",
       "        vertical-align: middle;\n",
       "    }\n",
       "\n",
       "    .dataframe tbody tr th {\n",
       "        vertical-align: top;\n",
       "    }\n",
       "\n",
       "    .dataframe thead th {\n",
       "        text-align: right;\n",
       "    }\n",
       "</style>\n",
       "<table border=\"1\" class=\"dataframe\">\n",
       "  <thead>\n",
       "    <tr style=\"text-align: right;\">\n",
       "      <th></th>\n",
       "      <th>Governor ID</th>\n",
       "      <th>Governor Name</th>\n",
       "      <th>T4 Kills</th>\n",
       "      <th>T5 Kills</th>\n",
       "      <th>Dead Gain</th>\n",
       "      <th>T5-T4 Total Kills</th>\n",
       "      <th>KvK</th>\n",
       "      <th>Total Kill Points</th>\n",
       "    </tr>\n",
       "  </thead>\n",
       "  <tbody>\n",
       "    <tr>\n",
       "      <th>257</th>\n",
       "      <td>76542548.0</td>\n",
       "      <td>This Pig</td>\n",
       "      <td>63145098.0</td>\n",
       "      <td>13410284.0</td>\n",
       "      <td>3612709.0</td>\n",
       "      <td>76555382.0</td>\n",
       "      <td>kvk2</td>\n",
       "      <td>899656660.0</td>\n",
       "    </tr>\n",
       "    <tr>\n",
       "      <th>731</th>\n",
       "      <td>76542548.0</td>\n",
       "      <td>This Pig</td>\n",
       "      <td>11548116.0</td>\n",
       "      <td>3403670.0</td>\n",
       "      <td>629563.0</td>\n",
       "      <td>14951786.0</td>\n",
       "      <td>kvk3</td>\n",
       "      <td>183554560.0</td>\n",
       "    </tr>\n",
       "  </tbody>\n",
       "</table>\n",
       "</div>"
      ],
      "text/plain": [
       "     Governor ID Governor Name    T4 Kills    T5 Kills  Dead Gain  \\\n",
       "257   76542548.0      This Pig  63145098.0  13410284.0  3612709.0   \n",
       "731   76542548.0      This Pig  11548116.0   3403670.0   629563.0   \n",
       "\n",
       "     T5-T4 Total Kills   KvK  Total Kill Points  \n",
       "257         76555382.0  kvk2        899656660.0  \n",
       "731         14951786.0  kvk3        183554560.0  "
      ]
     },
     "execution_count": 37,
     "metadata": {},
     "output_type": "execute_result"
    }
   ],
   "source": [
    "merged_df_name"
   ]
  },
  {
   "cell_type": "code",
   "execution_count": null,
   "metadata": {},
   "outputs": [],
   "source": []
  }
 ],
 "metadata": {
  "kernelspec": {
   "display_name": "Python 3",
   "language": "python",
   "name": "python3"
  },
  "language_info": {
   "codemirror_mode": {
    "name": "ipython",
    "version": 3
   },
   "file_extension": ".py",
   "mimetype": "text/x-python",
   "name": "python",
   "nbconvert_exporter": "python",
   "pygments_lexer": "ipython3",
   "version": "3.9.5"
  }
 },
 "nbformat": 4,
 "nbformat_minor": 2
}
